{
 "cells": [
  {
   "cell_type": "markdown",
   "metadata": {},
   "source": [
    "# Python lists"
   ]
  },
  {
   "cell_type": "markdown",
   "metadata": {},
   "source": [
    "## 1. Creating lists\n",
    "### 1.1 Lists with one data type\n",
    "\n",
    "\n",
    "- Assign the floor spaces of these variables to a list called fl_sp\n",
    "- print fl_sp"
   ]
  },
  {
   "cell_type": "code",
   "execution_count": 54,
   "metadata": {},
   "outputs": [
    {
     "name": "stdout",
     "output_type": "stream",
     "text": [
      "[18526, 18569, 12288, 17092]\n"
     ]
    }
   ],
   "source": [
    "swinton = 18526\n",
    "stamford = 18569\n",
    "skipton = 12288\n",
    "stratton = 17092\n",
    "\n",
    "fl_sp = [swinton, stamford, skipton, stratton]\n",
    "\n",
    "print(fl_sp)"
   ]
  },
  {
   "cell_type": "markdown",
   "metadata": {},
   "source": [
    "### 1.2 Lists with different types\n",
    "\n",
    "- Adapt fl_sp by adding the town names to the list. Each town name should be in front of the respective floor space number.\n",
    "- Print fl_sp"
   ]
  },
  {
   "cell_type": "code",
   "execution_count": 55,
   "metadata": {},
   "outputs": [
    {
     "name": "stdout",
     "output_type": "stream",
     "text": [
      "['swinton', 18526, 'stamford', 18569, 'skipton', 12288, 'stratton', 17092]\n"
     ]
    }
   ],
   "source": [
    "swinton = 18526\n",
    "stamford = 18569\n",
    "skipton = 12288\n",
    "stratton = 17092\n",
    "\n",
    "fl_sp.insert(0, 'swinton')\n",
    "fl_sp.insert(2, 'stamford')\n",
    "fl_sp.insert(4, 'skipton')\n",
    "fl_sp.insert(6, 'stratton')\n",
    "\n",
    "print(fl_sp)"
   ]
  },
  {
   "cell_type": "markdown",
   "metadata": {},
   "source": [
    "### 1.3 Lists within lists\n",
    "- Adapt fl_sp in such a way that it consists of multiple lists. Each sub-list is a combination of the town name and the respective floor space\n",
    "- Print fl_sp"
   ]
  },
  {
   "cell_type": "code",
   "execution_count": 56,
   "metadata": {
    "scrolled": true
   },
   "outputs": [
    {
     "name": "stdout",
     "output_type": "stream",
     "text": [
      "[]\n"
     ]
    }
   ],
   "source": [
    "tmp = list(fl_sp)\n",
    "\n",
    "fl_sp.clear()\n",
    "\n",
    "for idx in range(0, len(tmp), 2):\n",
    "    fl_sp.append([ tmp[idx], tmp[idx + 1] ])\n",
    "\n",
    "print(fl_sp)"
   ]
  },
  {
   "cell_type": "markdown",
   "metadata": {
    "pycharm": {
     "name": "#%% md\n"
    }
   },
   "source": [
    "## 2 Subsetting lists\n",
    "\n",
    "### 2.1 selecting single elements\n",
    "\n",
    "Run the code in the next cell to set up the list:"
   ]
  },
  {
   "cell_type": "code",
   "execution_count": 26,
   "metadata": {},
   "outputs": [
    {
     "name": "stdout",
     "output_type": "stream",
     "text": [
      "['swinton', 18526, 'stamford', 18569, 'skipton', 12288, 'stratton', 17092, 'shepperton', 11307]\n"
     ]
    }
   ],
   "source": [
    "fl_sp = ['swinton', 18526, 'stamford', 18569, 'skipton', 12288, 'stratton', 17092, 'shepperton', 11307]\n",
    "print(fl_sp)\n"
   ]
  },
  {
   "cell_type": "markdown",
   "metadata": {},
   "source": [
    "Print the following elements of fl_sp (remember that lists have zero-indexing):\n",
    "- The 3rd element\n",
    "- The first element\n",
    "- The last element\n",
    "- The second from last element"
   ]
  },
  {
   "cell_type": "code",
   "execution_count": 27,
   "metadata": {},
   "outputs": [
    {
     "name": "stdout",
     "output_type": "stream",
     "text": [
      "stamford\n",
      "swinton\n",
      "11307\n",
      "shepperton\n"
     ]
    }
   ],
   "source": [
    "print(fl_sp[2])\n",
    "print(fl_sp[0])\n",
    "print(fl_sp[len(fl_sp) - 1])\n",
    "print(fl_sp[len(fl_sp) - 2])"
   ]
  },
  {
   "cell_type": "markdown",
   "metadata": {
    "pycharm": {
     "name": "#%% md\n"
    }
   },
   "source": [
    "- Calculate the average floor space and assign it to a variable.\n",
    "- Print the average floor space"
   ]
  },
  {
   "cell_type": "code",
   "execution_count": 29,
   "metadata": {},
   "outputs": [
    {
     "name": "stdout",
     "output_type": "stream",
     "text": [
      "15556.4\n"
     ]
    }
   ],
   "source": [
    "avg_floor_space = 0\n",
    "\n",
    "for entry in fl_sp:\n",
    "    if type(entry) is not int:\n",
    "        continue\n",
    "    avg_floor_space += entry\n",
    "\n",
    "avg_floor_space /= (len(fl_sp) / 2)\n",
    "\n",
    "print(avg_floor_space)"
   ]
  },
  {
   "cell_type": "markdown",
   "metadata": {},
   "source": [
    "### 2.2 Slicing\n",
    "\n",
    "- Print the last 4 elements\n",
    "- Print the third element until the sixth element\n",
    "- Print the first 2 elements"
   ]
  },
  {
   "cell_type": "code",
   "execution_count": 42,
   "metadata": {},
   "outputs": [
    {
     "name": "stdout",
     "output_type": "stream",
     "text": [
      "['stratton', 17092, 'shepperton', 11307]\n",
      "['stamford', 18569, 'skipton', 12288]\n",
      "['swinton', 18526]\n"
     ]
    }
   ],
   "source": [
    "print(fl_sp[len(fl_sp) -4: len(fl_sp)])\n",
    "print(fl_sp[2:6])\n",
    "print(fl_sp[0:2])"
   ]
  },
  {
   "cell_type": "markdown",
   "metadata": {},
   "source": [
    "### 2.3 Subsetting lists within lists\n",
    "Run the code in the next cell to change fl_sp:"
   ]
  },
  {
   "cell_type": "code",
   "execution_count": 58,
   "metadata": {},
   "outputs": [
    {
     "name": "stdout",
     "output_type": "stream",
     "text": [
      "[['swinton', 18526], ['stamford', 18569], ['skipton', 12288], ['stratton', 17092]]\n"
     ]
    }
   ],
   "source": [
    "fl_sp = [['swinton', swinton] , ['stamford', stamford] , ['skipton', skipton], ['stratton', stratton]]\n",
    "print(fl_sp)"
   ]
  },
  {
   "cell_type": "markdown",
   "metadata": {},
   "source": [
    "Print the floor space of Skipton in two ways: starting from the beginning\n",
    "and starting from the end"
   ]
  },
  {
   "cell_type": "code",
   "execution_count": 63,
   "metadata": {},
   "outputs": [
    {
     "name": "stdout",
     "output_type": "stream",
     "text": [
      "12288\n",
      "12288\n"
     ]
    }
   ],
   "source": [
    "def print_if_found(find: str, fl_couple: list) -> None:\n",
    "    if fl_couple[0] != find:\n",
    "        return\n",
    "    print(fl_couple[1])\n",
    "\n",
    "for idx in range(0, len(fl_sp)):\n",
    "    print_if_found('skipton', fl_sp[idx])\n",
    "\n",
    "for idx in range(len(fl_sp) - 1, 0, -1):\n",
    "    print_if_found('skipton', fl_sp[idx])"
   ]
  },
  {
   "cell_type": "markdown",
   "metadata": {},
   "source": [
    "## 3 Manipulating lists\n",
    "### 3.1 Replacing, adding and deleting elements\n",
    "\n",
    "Run the code in the next cell to set up fl_sp"
   ]
  },
  {
   "cell_type": "code",
   "execution_count": 77,
   "metadata": {},
   "outputs": [
    {
     "name": "stdout",
     "output_type": "stream",
     "text": [
      "['swinton', 18526, 'stamford', 18569, 'skipton', 12288, 'stratton', 17092, 'shepperton', 11307]\n"
     ]
    }
   ],
   "source": [
    "fl_sp = ['swinton', 18526, 'stamford', 18569, 'skipton', 12288, 'stratton', 17092, 'shepperton', 11307]\n",
    "print(fl_sp)"
   ]
  },
  {
   "cell_type": "markdown",
   "metadata": {},
   "source": [
    "- Replace stratton with london\n",
    "- Replace the floor area of london with 25000\n",
    "- Print fl_sp"
   ]
  },
  {
   "cell_type": "code",
   "execution_count": 78,
   "metadata": {},
   "outputs": [
    {
     "name": "stdout",
     "output_type": "stream",
     "text": [
      "['swinton', 18526, 'stamford', 18569, 'skipton', 12288, 'london', 25000, 'shepperton', 11307]\n"
     ]
    }
   ],
   "source": [
    "for idx, entry in enumerate(fl_sp):\n",
    "    if entry != 'stratton':\n",
    "        continue\n",
    "\n",
    "    fl_sp.insert(idx, 'london')\n",
    "    fl_sp.remove(entry)\n",
    "    fl_sp_stratton = fl_sp[idx + 1]\n",
    "    fl_sp.insert(idx + 1, 25_000)\n",
    "    fl_sp.remove(fl_sp_stratton)\n",
    "\n",
    "print(fl_sp)"
   ]
  },
  {
   "cell_type": "markdown",
   "metadata": {},
   "source": [
    "- Add your town of residence and a realistic floor space to the list. Assign this list to a new list.\n",
    "- Print the new list"
   ]
  },
  {
   "cell_type": "code",
   "execution_count": 79,
   "metadata": {},
   "outputs": [
    {
     "name": "stdout",
     "output_type": "stream",
     "text": [
      "['swinton', 18526, 'stamford', 18569, 'skipton', 12288, 'london', 25000, 'shepperton', 11307, 'zaandam', 23000]\n"
     ]
    }
   ],
   "source": [
    "fl_sp.append('zaandam')\n",
    "fl_sp.append(23_000)\n",
    "new_fl_sp = fl_sp\n",
    "\n",
    "print(new_fl_sp)"
   ]
  },
  {
   "cell_type": "markdown",
   "metadata": {},
   "source": [
    "- Delete shepperton and its floor space from the new list"
   ]
  },
  {
   "cell_type": "code",
   "execution_count": 80,
   "metadata": {},
   "outputs": [
    {
     "name": "stdout",
     "output_type": "stream",
     "text": [
      "['swinton', 18526, 'stamford', 18569, 'skipton', 12288, 'london', 25000, 'zaandam', 23000]\n"
     ]
    }
   ],
   "source": [
    "idx_shepperton = new_fl_sp.index('shepperton')\n",
    "new_fl_sp.pop(idx_shepperton + 1)\n",
    "new_fl_sp.pop(idx_shepperton)\n",
    "\n",
    "print(new_fl_sp)"
   ]
  },
  {
   "cell_type": "markdown",
   "metadata": {},
   "source": [
    "The next cell contains code that creates a new list that is the same as new_fl_sp.\n",
    "After deleting the last element of the new list the last element\n",
    "of new_fl_sp is deleted as well. Change the code below in such a way that\n",
    "new_fl_sp is NOT changed after changing the new list."
   ]
  },
  {
   "cell_type": "code",
   "execution_count": 81,
   "metadata": {},
   "outputs": [
    {
     "name": "stdout",
     "output_type": "stream",
     "text": [
      "['swinton', 18526, 'stamford', 18569, 'skipton', 12288, 'london', 25000, 'zaandam']\n",
      "['swinton', 18526, 'stamford', 18569, 'skipton', 12288, 'london', 25000, 'zaandam']\n",
      "['swinton', 18526, 'stamford', 18569, 'skipton', 12288, 'london', 25000]\n",
      "['swinton', 18526, 'stamford', 18569, 'skipton', 12288, 'london', 25000, 'zaandam']\n"
     ]
    }
   ],
   "source": [
    "new_new_fl_sp = new_fl_sp\n",
    "\n",
    "new_new_fl_sp.pop()\n",
    "\n",
    "print(new_new_fl_sp)\n",
    "print(new_fl_sp)\n",
    "\n",
    "new_new_fl_sp = list(new_fl_sp)\n",
    "\n",
    "new_new_fl_sp.pop()\n",
    "\n",
    "print(new_new_fl_sp)\n",
    "print(new_fl_sp)"
   ]
  },
  {
   "cell_type": "markdown",
   "metadata": {},
   "source": [
    "## 4 Integration assignment\n",
    "Recently 3 more stores with there respective floor spaces have opened:\n",
    "\n",
    "- sandbach: 15738\n",
    "- stone: 17242\n",
    "- sedbergh: 11198\n",
    "\n",
    "Assignment:\n",
    "- Add these 3 stores to fl_sp\n",
    "- Calculate and print the average floor space of these 3 new stores\n",
    "- Create a NEW list that is exactly the same as fl_sp. If the NEW list changes fl_sp should NOT change\n",
    "- Change in the NEW list the floor space of stamford into 21000. Print the new list.\n",
    "- Print this sentence applying list elements: \"stamford has a floor space of 18569 sqm\""
   ]
  },
  {
   "cell_type": "code",
   "execution_count": 82,
   "metadata": {
    "pycharm": {
     "name": "#%%\n"
    }
   },
   "outputs": [
    {
     "name": "stdout",
     "output_type": "stream",
     "text": [
      "['swinton', 18526, 'stamford', 18569, 'skipton', 12288, 'london', 25000, 'zaandam', 'sandbach', 15738, 'stone', 17242, 'sedbergh', 11198]\n",
      "14726.0\n",
      "['swinton', 18526, 'stamford', 18569, 'skipton', 12288, 'london', 25000, 'zaandam', 'sandbach', 15738, 'stone', 17242, 'sedbergh', 11198]\n",
      "['swinton', 18526, 'stamford', 18569, 'skipton', 12288, 'london', 25000, 'zaandam', 'sandbach', 15738, 'stone', 17242, 'sedbergh', 11198]\n",
      "['swinton', 18526, 'stamford', 21000, 'skipton', 12288, 'london', 25000, 'zaandam', 'sandbach', 15738, 'stone', 17242, 'sedbergh', 11198]\n",
      "['swinton', 18526, 'stamford', 18569, 'skipton', 12288, 'london', 25000, 'zaandam', 'sandbach', 15738, 'stone', 17242, 'sedbergh', 11198]\n",
      "stamford has a floor space of 18569 sqm "
     ]
    }
   ],
   "source": [
    "# adding 3 stores:\n",
    "to_add = ['sandbach', 15_738, 'stone', 17_242, 'sedbergh', 11_198]\n",
    "fl_sp.extend(to_add)\n",
    "\n",
    "print(fl_sp)\n",
    "\n",
    "# calculate average:\n",
    "avg_floor_space = 0\n",
    "\n",
    "for idx in range(1, len(to_add), 2):\n",
    "    avg_floor_space += to_add[idx]\n",
    "\n",
    "avg_floor_space /= (len(to_add) / 2)\n",
    "\n",
    "print(avg_floor_space)\n",
    "\n",
    "# create new list:\n",
    "new_fl_sp = list(fl_sp)\n",
    "\n",
    "print(new_fl_sp)\n",
    "print(fl_sp)\n",
    "\n",
    "# Change floor space:\n",
    "\n",
    "for idx, entry in enumerate(new_fl_sp):\n",
    "    if entry != 'stamford':\n",
    "        continue\n",
    "\n",
    "    new_fl_sp.pop(idx + 1)\n",
    "    new_fl_sp.insert(idx + 1, 21_000)\n",
    "\n",
    "print(new_fl_sp)\n",
    "print(fl_sp)\n",
    "\n",
    "# Print sentence\n",
    "sentence = ['stamford', 'has', 'a', 'floor', 'space', 'of', 18569, 'sqm']\n",
    "\n",
    "for entry in sentence:\n",
    "    print(entry, end=' ')\n"
   ]
  }
 ],
 "metadata": {
  "interpreter": {
   "hash": "bcd5be8b9280af8ae7548d55470f478fdb740bc3cb5ec05bfc433143bb68b138"
  },
  "kernelspec": {
   "display_name": "Python 3.9.7 64-bit",
   "name": "python3"
  },
  "language_info": {
   "codemirror_mode": {
    "name": "ipython",
    "version": 3
   },
   "file_extension": ".py",
   "mimetype": "text/x-python",
   "name": "python",
   "nbconvert_exporter": "python",
   "pygments_lexer": "ipython3",
   "version": "3.10.0"
  }
 },
 "nbformat": 4,
 "nbformat_minor": 2
}