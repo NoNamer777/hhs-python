{
 "cells": [
  {
   "cell_type": "markdown",
   "metadata": {},
   "source": [
    "# Class 4: Numpy"
   ]
  },
  {
   "cell_type": "markdown",
   "metadata": {},
   "source": [
    "## 1. Numpy arrays\n",
    "\n",
    "fl_sp holds the floor spaces in square meters of 5 stores.\n",
    "turnover holds the turnover in GBP of 5 stores\n",
    "\n",
    "- Import Numpy\n",
    "- Convert the lists into Numpy arrays\n",
    "- Print the types of the arrays\n",
    "- Turnover is in GBP, convert the turnover array into an new array that shows turnover in EUR. Find the the current exchange rate on the Internet. Print the new array.\n",
    "- Calculate the EUR turnover per square meter (sqm) per store in a new array. Print the first three items of the new array.\n",
    "- A turnover per sqm of higher than 230 is considered to be good. Print the elements that are higher than this threshold.\n",
    "- Print the highest turnover"
   ]
  },
  {
   "cell_type": "code",
   "execution_count": 2,
   "metadata": {
    "scrolled": true
   },
   "outputs": [
    {
     "name": "stdout",
     "output_type": "stream",
     "text": [
      "<class 'numpy.ndarray'>\n",
      "<class 'numpy.ndarray'>\n",
      "[4024820.7  4760180.18 2711415.8  2830808.2  2700117.3 ]\n",
      "217.25254777070063\n",
      "256.35091711993107\n",
      "220.65558268229165\n",
      "turnover 4760180.18\n",
      "fl_sp 18569\n",
      "turnover 2700117.3\n",
      "fl_sp 11307\n",
      "4760180.18\n"
     ]
    }
   ],
   "source": [
    "fl_sp = [18526, 18569, 12288, 17092, 11307]\n",
    "turnover = [3410865, 4034051,2297810, 2398990, 2288235]\n",
    "\n",
    "#Import:\n",
    "import numpy as np\n",
    "\n",
    "#Convert to arrays\n",
    "fl_sp_arr = np.array(fl_sp)\n",
    "\n",
    "# (oscar) casting it to a float so that we can multiply the values within the array later on in the following exercise\n",
    "turnover_arr = np.array(turnover).astype(float)\n",
    "\n",
    "#Print types\n",
    "print(type(fl_sp_arr))\n",
    "print(type(turnover_arr))\n",
    "\n",
    "#Convert to EUR and print\n",
    "turnover_arr *= 1.18\n",
    "\n",
    "print(turnover_arr)\n",
    "\n",
    "#Calculate EUR turnover per sqm and print first 3 items\n",
    "for index in range(3):\n",
    "    print(turnover_arr[index] / fl_sp_arr[index])\n",
    "\n",
    "#Print to per sqm > 230\n",
    "for index in range(turnover_arr.size):\n",
    "    if turnover_arr[index] // fl_sp_arr[index] < 230:\n",
    "        continue\n",
    "\n",
    "    print(f'turnover {turnover_arr[index]}')\n",
    "    print(f'fl_sp {fl_sp_arr[index]}')\n",
    "\n",
    "#Print the highest turnover\n",
    "highest = turnover_arr[0]\n",
    "\n",
    "for to in turnover_arr:\n",
    "    if to <= highest:\n",
    "        continue\n",
    "\n",
    "    highest = to\n",
    "\n",
    "print(highest)\n"
   ]
  },
  {
   "cell_type": "markdown",
   "metadata": {},
   "source": [
    "## 2 Numpy 2D arrays\n",
    "The list of lists fl_sp_to contains the floorspaces (sqm) and turnovers in GBP of 5 stores.\n",
    "- Convert the list of lists into an 2D array\n",
    "- Print the shape of the array\n",
    "- Print the second column of the last 4 rows\n",
    "- Print the second row up to and including the 4th row\n",
    "- Convert the floor spaces into feet and convert the GBP amounts in EUR. Look up the appropriate conversion factors on the Internet. Print the new array.\n",
    "- Each store manager gets a bonus. The bonus percentages are given in the bonus table which is a list of lists. Print a new array that shows the bonus amounts."
   ]
  },
  {
   "cell_type": "code",
   "execution_count": 8,
   "metadata": {},
   "outputs": [
    {
     "name": "stdout",
     "output_type": "stream",
     "text": [
      "(5, 2)\n",
      "2288235\n",
      "2398990\n",
      "2297810\n",
      "4034051\n",
      "3410865\n",
      "4034051\n",
      "2297810\n",
      "[[ 199412 4024820]\n",
      " [ 199875 4760180]\n",
      " [ 132266 2711415]\n",
      " [ 183976 2830808]\n",
      " [ 121707 2700117]]\n",
      "[0.01  0.008 0.007 0.011 0.005]\n"
     ]
    }
   ],
   "source": [
    "fl_sp_to = [[18526, 3410865],\n",
    "            [18569, 4034051],\n",
    "            [12288, 2297810], \n",
    "            [17092, 2398990], \n",
    "            [11307, 2288235]]\n",
    "\n",
    "#Convert into a 2D array\n",
    "fl_sp_to_arr = np.array(fl_sp_to)\n",
    "\n",
    "#print shape\n",
    "print(fl_sp_to_arr.shape)\n",
    "\n",
    "#print second column of last 4 rows\n",
    "for idx, fl_sp_to_couple in enumerate(reversed(fl_sp_to_arr)):\n",
    "    if idx > 3:\n",
    "        break\n",
    "\n",
    "    print(fl_sp_to_couple[1])\n",
    "\n",
    "#print second row up to and including the 4th row\n",
    "for idx, fl_sp_to_couple in enumerate(fl_sp_to_arr):\n",
    "    if idx >= 3:\n",
    "        break\n",
    "\n",
    "    print(fl_sp_to_couple[1])\n",
    "\n",
    "#Convert to square feet and EUR\n",
    "for idx, fl_sp_to_couple in enumerate(fl_sp_to_arr):\n",
    "    fl_sp_to_arr[idx][0] = float(fl_sp_to_couple[0]) * 10.76391\n",
    "    fl_sp_to_arr[idx][1] = float(fl_sp_to_couple[1]) * 1.18\n",
    "\n",
    "print(fl_sp_to_arr)\n",
    "\n",
    "\n",
    "#Bonus table\n",
    "bonus = [[1, 0.010],\n",
    "         [1, 0.008],\n",
    "         [1, 0.007], \n",
    "         [1, 0.011], \n",
    "         [1, 0.005]]\n",
    "\n",
    "# bonus amount\n",
    "bonus_arr = np.array(bonus).astype(float)\n",
    "bonus_calculated = list()\n",
    "\n",
    "for idx, bonus_couple in enumerate(bonus_arr):\n",
    "    bonus_calculated.append(bonus_couple[0] * bonus_couple[1])\n",
    "\n",
    "bonus_calculated = np.array(bonus_calculated)\n",
    "\n",
    "print(bonus_calculated)\n"
   ]
  },
  {
   "cell_type": "markdown",
   "metadata": {},
   "source": [
    "## 3 Integration assignment\n",
    "\n",
    "In the next cell we'll read some real store data into this notebook from a CSV file using Pandas. This is something that you'll learn in one of your next classes. As a result there is 2D numpy array st_to available for you to use in this assignment. \n",
    "\n",
    "It shows the number of staff members and the turnover per store. We expect that there might be a correlation between the number of staff members and the turnover.\n",
    "- Calculate the mean, median and standard deviation of both columns\n",
    "- What is your first impression of the data in the staff column? What about the turnover?\n",
    "- Check the data, are there any strange data points? which?\n",
    "- Print the correlation coefficient of both columns\n",
    "- What options do you have to get a more accurate result?\n"
   ]
  },
  {
   "cell_type": "code",
   "execution_count": 21,
   "metadata": {
    "pycharm": {
     "name": "#%%\n"
    }
   },
   "outputs": [
    {
     "name": "stdout",
     "output_type": "stream",
     "text": [
      "staff - mean: 1705437.0, median: 1705437.0, standard deviation: 1705428.0\n",
      "turnover per store - mean: 2017029.5, median: 2017029.5, standard deviation: 2017021.5\n",
      "\n",
      "correlation coefficient: [[1. 1. 1. ... 1. 1. 1.]\n",
      " [1. 1. 1. ... 1. 1. 1.]\n",
      " [1. 1. 1. ... 1. 1. 1.]\n",
      " ...\n",
      " [1. 1. 1. ... 1. 1. 1.]\n",
      " [1. 1. 1. ... 1. 1. 1.]\n",
      " [1. 1. 1. ... 1. 1. 1.]]\n"
     ]
    }
   ],
   "source": [
    "# Don't remove this:\n",
    "import pandas as pd\n",
    "import numpy as np\n",
    "\n",
    "storedata = pd.read_csv('storedata.csv', encoding='ISO-8859-1')\n",
    "staff = storedata['Staff'].values.tolist()\n",
    "turnover = storedata['Profit'].values.tolist()\n",
    "\n",
    "np_st = np.array(staff)\n",
    "np_to = np.array(turnover)\n",
    "st_to = np.column_stack((np_st,np_to))\n",
    "\n",
    "# Start coding here:\n",
    "mean_staff = np.mean(st_to[0])\n",
    "median_staff = np.median(st_to[0])\n",
    "standard_deviation_staff = np.std(st_to[0])\n",
    "\n",
    "mean_to_p_s = np.mean(st_to[1])\n",
    "median_to_p_s = np.median(st_to[1])\n",
    "standard_deviation_to_p_s = np.std(st_to[1])\n",
    "\n",
    "print(f'staff - mean: {mean_staff}, median: {median_staff}, standard deviation: {standard_deviation_staff}')\n",
    "print(f'turnover per store - mean: {mean_to_p_s}, median: {median_to_p_s}, standard deviation: {standard_deviation_to_p_s}\\n')\n",
    "\n",
    "print(f'correlation coefficient: {np.corrcoef(st_to)}')"
   ]
  },
  {
   "cell_type": "code",
   "execution_count": null,
   "outputs": [],
   "source": [],
   "metadata": {
    "collapsed": false,
    "pycharm": {
     "name": "#%%\n"
    }
   }
  }
 ],
 "metadata": {
  "kernelspec": {
   "display_name": "Python 3",
   "language": "python",
   "name": "python3"
  },
  "language_info": {
   "codemirror_mode": {
    "name": "ipython",
    "version": 3
   },
   "file_extension": ".py",
   "mimetype": "text/x-python",
   "name": "python",
   "nbconvert_exporter": "python",
   "pygments_lexer": "ipython3",
   "version": "3.9.7"
  }
 },
 "nbformat": 4,
 "nbformat_minor": 2
}